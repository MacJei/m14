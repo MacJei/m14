{
 "cells": [
  {
   "cell_type": "markdown",
   "metadata": {
    "colab_type": "text",
    "id": "ZfiL39OTJ5sR"
   },
   "source": [
    "# Hive assignment 1"
   ]
  },
  {
   "cell_type": "markdown",
   "metadata": {
    "colab_type": "text",
    "id": "VD19-0y3J5sR"
   },
   "source": [
    "The purpose of this task is to create an external table on the posts data of the `stackoverflow.com` website."
   ]
  },
  {
   "cell_type": "markdown",
   "metadata": {
    "colab_type": "text",
    "id": "nKx3tQ4_J5sS"
   },
   "source": [
    "## Step 1. Intro. Creation of the DB"
   ]
  },
  {
   "cell_type": "markdown",
   "metadata": {
    "colab_type": "text",
    "id": "10mBFHfPJ5sS"
   },
   "source": [
    "Let's create the sandbox database where you will complete your assignment.\n",
    "\n",
    "<b>Note!</b> This code shouldn't be in your submission. Please, remove this code from the notebook before submission."
   ]
  },
  {
   "cell_type": "code",
   "execution_count": 1,
   "metadata": {
    "colab": {
     "autoexec": {
      "startup": false,
      "wait_interval": 0
     }
    },
    "colab_type": "code",
    "id": "v1kw1lFXJ5sU",
    "outputId": "7fa089c4-ee8f-40ec-b220-5101298f1b18"
   },
   "outputs": [
    {
     "name": "stdout",
     "output_type": "stream",
     "text": [
      "Overwriting creation_db.hql\n"
     ]
    }
   ],
   "source": [
    "%%writefile creation_db.hql\n",
    "DROP DATABASE IF EXISTS jovyan CASCADE;"
   ]
  },
  {
   "cell_type": "code",
   "execution_count": 2,
   "metadata": {
    "colab": {
     "autoexec": {
      "startup": false,
      "wait_interval": 0
     }
    },
    "colab_type": "code",
    "id": "gk869885J5sZ",
    "outputId": "7c890932-c8de-41ba-ad23-f3b966198693"
   },
   "outputs": [
    {
     "name": "stdout",
     "output_type": "stream",
     "text": [
      "Appending to creation_db.hql\n"
     ]
    }
   ],
   "source": [
    "%%writefile -a creation_db.hql\n",
    "CREATE DATABASE jovyan ;"
   ]
  },
  {
   "cell_type": "code",
   "execution_count": 3,
   "metadata": {
    "colab": {
     "autoexec": {
      "startup": false,
      "wait_interval": 0
     }
    },
    "colab_type": "code",
    "id": "JNqLknFJJ5sc",
    "outputId": "c5b66828-649f-408d-9651-403cff75522c"
   },
   "outputs": [
    {
     "name": "stdout",
     "output_type": "stream",
     "text": [
      "\n",
      "Logging initialized using configuration in jar:file:/usr/local/apache-hive-1.1.0-bin/lib/hive-common-1.1.0.jar!/hive-log4j.properties\n",
      "OK\n",
      "Time taken: 2.508 seconds\n",
      "OK\n",
      "Time taken: 0.403 seconds\n"
     ]
    }
   ],
   "source": [
    "! hive -f creation_db.hql"
   ]
  },
  {
   "cell_type": "markdown",
   "metadata": {
    "colab_type": "text",
    "id": "NvsrnOe6J5se"
   },
   "source": [
    "**Don't forget to remove this code before submission!**\n"
   ]
  },
  {
   "cell_type": "markdown",
   "metadata": {
    "colab_type": "text",
    "id": "dPEiXPuAJ5sf"
   },
   "source": [
    "## Step 2. Exploration of the dataset"
   ]
  },
  {
   "cell_type": "markdown",
   "metadata": {
    "colab_type": "text",
    "id": "tdzmqWgQJ5sg"
   },
   "source": [
    "Okay, we have created the database. Let's create your own table for users and posts."
   ]
  },
  {
   "cell_type": "markdown",
   "metadata": {
    "colab_type": "text",
    "id": "Li8EZVxtJ5sg"
   },
   "source": [
    "First of all, let's watch at the datasets for `users` which are located at `/data/stackexchange1000/posts` and for `posts` which is located at `/data/stackexchange1000/users`. Print the first three rows of those datasets.\n"
   ]
  },
  {
   "cell_type": "code",
   "execution_count": 4,
   "metadata": {
    "colab": {
     "autoexec": {
      "startup": false,
      "wait_interval": 0
     }
    },
    "colab_type": "code",
    "id": "HBbrpNdIeM6e"
   },
   "outputs": [
    {
     "name": "stdout",
     "output_type": "stream",
     "text": [
      "Overwriting get_data.hql\n"
     ]
    }
   ],
   "source": [
    "%%writefile get_data.hql\n",
    "\n",
    "CREATE DATABASE IF NOT EXISTS jovyan;\n",
    "\n",
    "USE jovyan;\n",
    "\n",
    "DROP TABLE IF EXISTS data_raw;\n",
    "\n",
    "CREATE EXTERNAL TABLE data_raw (\n",
    "     line STRING\n",
    ")\n",
    "ROW FORMAT DELIMITED\n",
    "LINES TERMINATED BY '\\n'\n",
    "STORED AS textfile\n",
    "LOCATION '/data/stackexchange1000/posts/';\n",
    "\n",
    "SELECT COUNT(*) FROM data_raw;\n",
    "SELECT * FROM data_raw LIMIT 3;"
   ]
  },
  {
   "cell_type": "code",
   "execution_count": 5,
   "metadata": {},
   "outputs": [
    {
     "name": "stdout",
     "output_type": "stream",
     "text": [
      "\n",
      "Logging initialized using configuration in jar:file:/usr/local/apache-hive-1.1.0-bin/lib/hive-common-1.1.0.jar!/hive-log4j.properties\n",
      "OK\n",
      "Time taken: 0.695 seconds\n",
      "OK\n",
      "Time taken: 0.017 seconds\n",
      "OK\n",
      "Time taken: 0.088 seconds\n",
      "OK\n",
      "Time taken: 0.738 seconds\n",
      "Query ID = jovyan_20200813071717_e9128864-8bf3-4ce1-a0d7-c7baa221fae3\n",
      "Total jobs = 1\n",
      "Launching Job 1 out of 1\n",
      "Number of reduce tasks determined at compile time: 1\n",
      "In order to change the average load for a reducer (in bytes):\n",
      "  set hive.exec.reducers.bytes.per.reducer=<number>\n",
      "In order to limit the maximum number of reducers:\n",
      "  set hive.exec.reducers.max=<number>\n",
      "In order to set a constant number of reducers:\n",
      "  set mapreduce.job.reduces=<number>\n",
      "Starting Job = job_1597302836302_0001, Tracking URL = http://2bcb91321cef:8088/proxy/application_1597302836302_0001/\n",
      "Kill Command = /opt/hadoop/bin/hadoop job  -kill job_1597302836302_0001\n",
      "Hadoop job information for Stage-1: number of mappers: 1; number of reducers: 1\n",
      "2020-08-13 07:18:03,863 Stage-1 map = 0%,  reduce = 0%\n",
      "2020-08-13 07:18:13,607 Stage-1 map = 100%,  reduce = 0%, Cumulative CPU 6.66 sec\n",
      "2020-08-13 07:18:20,066 Stage-1 map = 100%,  reduce = 100%, Cumulative CPU 9.03 sec\n",
      "MapReduce Total cumulative CPU time: 9 seconds 30 msec\n",
      "Ended Job = job_1597302836302_0001\n",
      "MapReduce Jobs Launched: \n",
      "Stage-Stage-1: Map: 1  Reduce: 1   Cumulative CPU: 9.03 sec   HDFS Read: 60005709 HDFS Write: 6 SUCCESS\n",
      "Total MapReduce CPU Time Spent: 9 seconds 30 msec\n",
      "OK\n",
      "39431\n",
      "Time taken: 31.827 seconds, Fetched: 1 row(s)\n",
      "OK\n",
      "reporter:status:Reading \t\n",
      "<row Id=\"1394\" PostTypeId=\"2\" ParentId=\"1390\" CreationDate=\"2008-08-04T16:38:03.667\" Score=\"16\" Body=\"&lt;p&gt;Not sure how credible &lt;a href=&quot;http://www.builderau.com.au/program/windows/soa/Getting-started-with-Windows-Server-2008-Core-edition/0,339024644,339288700,00.htm&quot; rel=&quot;nofollow noreferrer&quot;&gt;this source is&lt;/a&gt;, but:&lt;/p&gt;&#xA;&#xA;&lt;blockquote&gt;&#xA;  &lt;p&gt;The Windows Server 2008 Core edition can:&lt;/p&gt;&#xA;  &#xA;  &lt;ul&gt;&#xA;  &lt;li&gt;&lt;p&gt;Run the file server role.&lt;/p&gt;&lt;/li&gt;&#xA;  &lt;li&gt;&lt;p&gt;Run the Hyper-V virtualization server role.&lt;/p&gt;&lt;/li&gt;&#xA;  &lt;li&gt;&lt;p&gt;Run the Directory Services role.&lt;/p&gt;&lt;/li&gt;&#xA;  &lt;li&gt;&lt;p&gt;Run the DHCP server role.&lt;/p&gt;&lt;/li&gt;&#xA;  &lt;li&gt;&lt;p&gt;Run the IIS Web server role.&lt;/p&gt;&lt;/li&gt;&#xA;  &lt;li&gt;&lt;p&gt;Run the DNS server role.&lt;/p&gt;&lt;/li&gt;&#xA;  &lt;li&gt;&lt;p&gt;Run Active Directory Lightweight Directory Services.&lt;/p&gt;&lt;/li&gt;&#xA;  &lt;li&gt;&lt;p&gt;Run the print server role.&lt;/p&gt;&lt;/li&gt;&#xA;  &lt;/ul&gt;&#xA;  &#xA;  &lt;p&gt;The Windows Server 2008 Core edition cannot:&lt;/p&gt;&#xA;  &#xA;  &lt;ul&gt;&#xA;  &lt;li&gt;&lt;p&gt;Run a SQL Server.&lt;/p&gt;&lt;/li&gt;&#xA;  &lt;li&gt;&lt;p&gt;Run an Exchange Server.&lt;/p&gt;&lt;/li&gt;&#xA;  &lt;li&gt;&lt;p&gt;Run Internet Explorer.&lt;/p&gt;&lt;/li&gt;&#xA;  &lt;li&gt;&lt;p&gt;Run Windows Explorer.&lt;/p&gt;&lt;/li&gt;&#xA;  &lt;li&gt;&lt;p&gt;Host a remote desktop session.&lt;/p&gt;&lt;/li&gt;&#xA;  &lt;li&gt;&lt;p&gt;Run MMC snap-in consoles locally.&lt;/p&gt;&lt;/li&gt;&#xA;  &lt;/ul&gt;&#xA;&lt;/blockquote&gt;&#xA;\" OwnerUserId=\"91\" LastEditorUserId=\"1\" LastEditorDisplayName=\"Jeff Atwood\" LastEditDate=\"2008-08-27T13:02:50.273\" LastActivityDate=\"2008-08-27T13:02:50.273\" CommentCount=\"1\" />\t\n",
      "<row Id=\"3543\" PostTypeId=\"2\" ParentId=\"3530\" CreationDate=\"2008-08-06T15:24:00.787\" Score=\"37\" Body=\"&lt;p&gt;from &lt;a href=&quot;http://www.timocracy.com/articles/2008/02/21/calling-invoking-rails-rake-tasks-from-within-ruby-for-testing-try-2&quot; rel=&quot;nofollow noreferrer&quot;&gt;timocracy.com&lt;/a&gt;:&lt;/p&gt;&#xA;&#xA;&lt;pre&gt;&lt;code&gt;require 'rake'&#xA;require 'rake/rdoctask'&#xA;require 'rake/testtask'&#xA;require 'tasks/rails'&#xA;&#xA;def capture_stdout&#xA;  s = StringIO.new&#xA;  oldstdout = $stdout&#xA;  $stdout = s&#xA;  yield&#xA;  s.string&#xA;ensure&#xA;  $stdout = oldstdout&#xA;end&#xA;&#xA;Rake.application.rake_require '../../lib/tasks/metric_fetcher'&#xA;results = capture_stdout {Rake.application['metric_fetcher'].invoke}&#xA;&lt;/code&gt;&lt;/pre&gt;&#xA;\" OwnerUserId=\"399\" LastActivityDate=\"2008-08-06T15:24:00.787\" CommentCount=\"3\" />\t\n",
      "Time taken: 0.13 seconds, Fetched: 3 row(s)\n"
     ]
    }
   ],
   "source": [
    "! hive -f get_data.hql"
   ]
  },
  {
   "cell_type": "code",
   "execution_count": 9,
   "metadata": {},
   "outputs": [
    {
     "name": "stdout",
     "output_type": "stream",
     "text": [
      "Writing formatted_data.hql\n"
     ]
    }
   ],
   "source": [
    "%%writefile formatted_data.hql\n",
    "\n",
    "DROP TABLE IF EXISTS formatted_raw;\n",
    "\n",
    "CREATE TABLE formatted_raw (\n",
    "  tag STRING,\n",
    "  count INT\n",
    ")\n",
    "PARTITIONED BY (year INT);\n",
    "\n",
    "SELECT COUNT(*) FROM formatted_raw;\n",
    "SELECT * FROM formatted_raw LIMIT 3;"
   ]
  },
  {
   "cell_type": "code",
   "execution_count": 10,
   "metadata": {},
   "outputs": [
    {
     "name": "stdout",
     "output_type": "stream",
     "text": [
      "\n",
      "Logging initialized using configuration in jar:file:/usr/local/apache-hive-1.1.0-bin/lib/hive-common-1.1.0.jar!/hive-log4j.properties\n",
      "OK\n",
      "Time taken: 0.794 seconds\n",
      "OK\n",
      "Time taken: 0.652 seconds\n",
      "Query ID = jovyan_20200813072020_1d6cec07-3981-492c-aa32-f958321954a9\n",
      "Total jobs = 1\n",
      "Launching Job 1 out of 1\n",
      "Number of reduce tasks determined at compile time: 1\n",
      "In order to change the average load for a reducer (in bytes):\n",
      "  set hive.exec.reducers.bytes.per.reducer=<number>\n",
      "In order to limit the maximum number of reducers:\n",
      "  set hive.exec.reducers.max=<number>\n",
      "In order to set a constant number of reducers:\n",
      "  set mapreduce.job.reduces=<number>\n",
      "Starting Job = job_1597302836302_0002, Tracking URL = http://2bcb91321cef:8088/proxy/application_1597302836302_0002/\n",
      "Kill Command = /opt/hadoop/bin/hadoop job  -kill job_1597302836302_0002\n",
      "Hadoop job information for Stage-1: number of mappers: 1; number of reducers: 1\n",
      "2020-08-13 07:20:20,657 Stage-1 map = 0%,  reduce = 0%\n",
      "2020-08-13 07:20:27,092 Stage-1 map = 100%,  reduce = 0%, Cumulative CPU 1.77 sec\n",
      "2020-08-13 07:20:33,438 Stage-1 map = 100%,  reduce = 100%, Cumulative CPU 4.45 sec\n",
      "MapReduce Total cumulative CPU time: 4 seconds 450 msec\n",
      "Ended Job = job_1597302836302_0002\n",
      "MapReduce Jobs Launched: \n",
      "Stage-Stage-1: Map: 1  Reduce: 1   Cumulative CPU: 4.45 sec   HDFS Read: 6338 HDFS Write: 2 SUCCESS\n",
      "Total MapReduce CPU Time Spent: 4 seconds 450 msec\n",
      "OK\n",
      "0\n",
      "Time taken: 25.709 seconds, Fetched: 1 row(s)\n",
      "OK\n",
      "Time taken: 0.202 seconds\n"
     ]
    }
   ],
   "source": [
    "! hive -f formatted_data.hql"
   ]
  },
  {
   "cell_type": "code",
   "execution_count": 4,
   "metadata": {},
   "outputs": [
    {
     "name": "stdout",
     "output_type": "stream",
     "text": [
      "Overwriting mapper.py\n"
     ]
    }
   ],
   "source": [
    "%%writefile mapper.py\n",
    "#!/usr/bin/env python3\n",
    "\n",
    "import sys\n",
    "import re\n",
    "from datetime import datetime\n",
    "\n",
    "for line in sys.stdin:\n",
    "    tags = re.findall(r\"<row\\s.*CreationDate=\\\"([^\\\"]+)\\\"\\s.*Tags=\\\"([^\\\"]+)\", line, flags=re.UNICODE)\n",
    "    if len(tags) == 0:\n",
    "        continue\n",
    "    tags = tags[0]\n",
    "\n",
    "    createDate = datetime.strptime(tags[0].split(\".\")[0], '%Y-%m-%dT%H:%M:%S')\n",
    "    tags = tags[1].replace(\"&gt;&lt;\", \",\"). \\\n",
    "        replace(\"&lt;\", \"\").replace(\"&gt;\", \"\").lower().split(\",\")\n",
    "    for tag in tags:\n",
    "        print(tag, 1, createDate.year, sep=\"\\t\")"
   ]
  },
  {
   "cell_type": "code",
   "execution_count": 22,
   "metadata": {},
   "outputs": [
    {
     "name": "stdout",
     "output_type": "stream",
     "text": [
      "Overwriting reducer.py\n"
     ]
    }
   ],
   "source": [
    "%%writefile reducer.py\n",
    "#!/usr/bin/env python3\n",
    "\n",
    "import sys\n",
    "from collections import Counter\n",
    "\n",
    "dict_counter = Counter()\n",
    "\n",
    "for line in sys.stdin:\n",
    "    if not line: continue\n",
    "    tag, count, year = line.strip().split(\"\\t\")\n",
    "    dict_counter[year+\"\\x01\"+tag] += int(count)\n",
    "\n",
    "for key, count in dict_counter.items():\n",
    "    year, tag = key.split(\"\\x01\")\n",
    "    if count > 10 and (year == '2010' or year == '2016'):\n",
    "        print(tag, count, year, sep=\"\\t\")"
   ]
  },
  {
   "cell_type": "code",
   "execution_count": 14,
   "metadata": {},
   "outputs": [
    {
     "name": "stdout",
     "output_type": "stream",
     "text": [
      "SLF4J: Failed to load class \"org.slf4j.impl.StaticLoggerBinder\".\n",
      "SLF4J: Defaulting to no-operation (NOP) logger implementation\n",
      "SLF4J: See http://www.slf4j.org/codes.html#StaticLoggerBinder for further details.\n",
      "drwxr-xr-x   - jovyan supergroup          0 2018-07-28 17:49 precreate\n",
      "drwxr-xr-x   - jovyan supergroup          0 2018-07-28 17:52 precreate/posts\n",
      "drwxr-xr-x   - jovyan supergroup          0 2018-07-28 17:52 precreate/posts/year=2008\n",
      "drwxr-xr-x   - jovyan supergroup          0 2018-07-28 17:52 precreate/posts/year=2008/month=2008-08\n",
      "-rwxr-xr-x   1 jovyan supergroup       7464 2018-07-28 17:51 precreate/posts/year=2008/month=2008-08/000000_0\n",
      "drwxr-xr-x   - jovyan supergroup          0 2018-07-28 17:52 precreate/posts/year=2008/month=2008-09\n",
      "-rwxr-xr-x   1 jovyan supergroup      31728 2018-07-28 17:51 precreate/posts/year=2008/month=2008-09/000000_0\n",
      "drwxr-xr-x   - jovyan supergroup          0 2018-07-28 17:52 precreate/posts/year=2008/month=2008-10\n",
      "-rwxr-xr-x   1 jovyan supergroup      28922 2018-07-28 17:51 precreate/posts/year=2008/month=2008-10/000000_0\n",
      "drwxr-xr-x   - jovyan supergroup          0 2018-07-28 17:52 precreate/posts/year=2008/month=2008-11\n",
      "-rwxr-xr-x   1 jovyan supergroup      22937 2018-07-28 17:51 precreate/posts/year=2008/month=2008-11/000000_0\n",
      "drwxr-xr-x   - jovyan supergroup          0 2018-07-28 17:52 precreate/posts/year=2008/month=2008-12\n",
      "-rwxr-xr-x   1 jovyan supergroup      22168 2018-07-28 17:51 precreate/posts/year=2008/month=2008-12/000000_0\n",
      "drwxr-xr-x   - jovyan supergroup          0 2018-07-28 17:52 precreate/posts/year=2009\n",
      "drwxr-xr-x   - jovyan supergroup          0 2018-07-28 17:52 precreate/posts/year=2009/month=2009-01\n",
      "-rwxr-xr-x   1 jovyan supergroup      29443 2018-07-28 17:51 precreate/posts/year=2009/month=2009-01/000000_0\n",
      "drwxr-xr-x   - jovyan supergroup          0 2018-07-28 17:52 precreate/posts/year=2009/month=2009-02\n",
      "-rwxr-xr-x   1 jovyan supergroup      32849 2018-07-28 17:51 precreate/posts/year=2009/month=2009-02/000000_0\n",
      "drwxr-xr-x   - jovyan supergroup          0 2018-07-28 17:52 precreate/posts/year=2009/month=2009-03\n",
      "-rwxr-xr-x   1 jovyan supergroup      35221 2018-07-28 17:51 precreate/posts/year=2009/month=2009-03/000000_0\n",
      "drwxr-xr-x   - jovyan supergroup          0 2018-07-28 17:52 precreate/posts/year=2009/month=2009-04\n",
      "-rwxr-xr-x   1 jovyan supergroup      37197 2018-07-28 17:51 precreate/posts/year=2009/month=2009-04/000000_0\n",
      "drwxr-xr-x   - jovyan supergroup          0 2018-07-28 17:52 precreate/posts/year=2009/month=2009-05\n",
      "-rwxr-xr-x   1 jovyan supergroup      43819 2018-07-28 17:51 precreate/posts/year=2009/month=2009-05/000000_0\n",
      "drwxr-xr-x   - jovyan supergroup          0 2018-07-28 17:52 precreate/posts/year=2009/month=2009-06\n",
      "-rwxr-xr-x   1 jovyan supergroup      47510 2018-07-28 17:51 precreate/posts/year=2009/month=2009-06/000000_0\n",
      "drwxr-xr-x   - jovyan supergroup          0 2018-07-28 17:52 precreate/posts/year=2009/month=2009-07\n",
      "-rwxr-xr-x   1 jovyan supergroup      53254 2018-07-28 17:51 precreate/posts/year=2009/month=2009-07/000000_0\n",
      "drwxr-xr-x   - jovyan supergroup          0 2018-07-28 17:52 precreate/posts/year=2009/month=2009-08\n",
      "-rwxr-xr-x   1 jovyan supergroup      52075 2018-07-28 17:51 precreate/posts/year=2009/month=2009-08/000000_0\n",
      "drwxr-xr-x   - jovyan supergroup          0 2018-07-28 17:52 precreate/posts/year=2009/month=2009-09\n",
      "-rwxr-xr-x   1 jovyan supergroup      51615 2018-07-28 17:51 precreate/posts/year=2009/month=2009-09/000000_0\n",
      "drwxr-xr-x   - jovyan supergroup          0 2018-07-28 17:52 precreate/posts/year=2009/month=2009-10\n",
      "-rwxr-xr-x   1 jovyan supergroup      56488 2018-07-28 17:51 precreate/posts/year=2009/month=2009-10/000000_0\n",
      "drwxr-xr-x   - jovyan supergroup          0 2018-07-28 17:52 precreate/posts/year=2009/month=2009-11\n",
      "-rwxr-xr-x   1 jovyan supergroup      61677 2018-07-28 17:51 precreate/posts/year=2009/month=2009-11/000000_0\n",
      "drwxr-xr-x   - jovyan supergroup          0 2018-07-28 17:52 precreate/posts/year=2009/month=2009-12\n",
      "-rwxr-xr-x   1 jovyan supergroup      59779 2018-07-28 17:51 precreate/posts/year=2009/month=2009-12/000000_0\n",
      "drwxr-xr-x   - jovyan supergroup          0 2018-07-28 17:52 precreate/posts/year=2010\n",
      "drwxr-xr-x   - jovyan supergroup          0 2018-07-28 17:52 precreate/posts/year=2010/month=2010-01\n",
      "-rwxr-xr-x   1 jovyan supergroup      68715 2018-07-28 17:51 precreate/posts/year=2010/month=2010-01/000000_0\n",
      "drwxr-xr-x   - jovyan supergroup          0 2018-07-28 17:52 precreate/posts/year=2010/month=2010-02\n",
      "-rwxr-xr-x   1 jovyan supergroup      66205 2018-07-28 17:51 precreate/posts/year=2010/month=2010-02/000000_0\n",
      "drwxr-xr-x   - jovyan supergroup          0 2018-07-28 17:52 precreate/posts/year=2010/month=2010-03\n",
      "-rwxr-xr-x   1 jovyan supergroup      77387 2018-07-28 17:51 precreate/posts/year=2010/month=2010-03/000000_0\n",
      "drwxr-xr-x   - jovyan supergroup          0 2018-07-28 17:52 precreate/posts/year=2010/month=2010-04\n",
      "-rwxr-xr-x   1 jovyan supergroup      71899 2018-07-28 17:51 precreate/posts/year=2010/month=2010-04/000000_0\n",
      "drwxr-xr-x   - jovyan supergroup          0 2018-07-28 17:52 precreate/posts/year=2010/month=2010-05\n",
      "-rwxr-xr-x   1 jovyan supergroup      74217 2018-07-28 17:51 precreate/posts/year=2010/month=2010-05/000000_0\n",
      "drwxr-xr-x   - jovyan supergroup          0 2018-07-28 17:52 precreate/posts/year=2010/month=2010-06\n",
      "-rwxr-xr-x   1 jovyan supergroup      79199 2018-07-28 17:51 precreate/posts/year=2010/month=2010-06/000000_0\n",
      "drwxr-xr-x   - jovyan supergroup          0 2018-07-28 17:52 precreate/posts/year=2010/month=2010-07\n",
      "-rwxr-xr-x   1 jovyan supergroup      86677 2018-07-28 17:51 precreate/posts/year=2010/month=2010-07/000000_0\n",
      "drwxr-xr-x   - jovyan supergroup          0 2018-07-28 17:52 precreate/posts/year=2010/month=2010-08\n",
      "-rwxr-xr-x   1 jovyan supergroup      87834 2018-07-28 17:51 precreate/posts/year=2010/month=2010-08/000000_0\n",
      "drwxr-xr-x   - jovyan supergroup          0 2018-07-28 17:52 precreate/posts/year=2010/month=2010-09\n",
      "-rwxr-xr-x   1 jovyan supergroup      85116 2018-07-28 17:51 precreate/posts/year=2010/month=2010-09/000000_0\n",
      "drwxr-xr-x   - jovyan supergroup          0 2018-07-28 17:52 precreate/posts/year=2010/month=2010-10\n",
      "-rwxr-xr-x   1 jovyan supergroup      87927 2018-07-28 17:51 precreate/posts/year=2010/month=2010-10/000000_0\n",
      "drwxr-xr-x   - jovyan supergroup          0 2018-07-28 17:52 precreate/posts/year=2010/month=2010-11\n",
      "-rwxr-xr-x   1 jovyan supergroup      97267 2018-07-28 17:51 precreate/posts/year=2010/month=2010-11/000000_0\n",
      "drwxr-xr-x   - jovyan supergroup          0 2018-07-28 17:52 precreate/posts/year=2010/month=2010-12\n",
      "-rwxr-xr-x   1 jovyan supergroup      96259 2018-07-28 17:51 precreate/posts/year=2010/month=2010-12/000000_0\n",
      "drwxr-xr-x   - jovyan supergroup          0 2018-07-28 17:52 precreate/posts/year=2011\n",
      "drwxr-xr-x   - jovyan supergroup          0 2018-07-28 17:52 precreate/posts/year=2011/month=2011-01\n",
      "-rwxr-xr-x   1 jovyan supergroup     111195 2018-07-28 17:51 precreate/posts/year=2011/month=2011-01/000000_0\n",
      "drwxr-xr-x   - jovyan supergroup          0 2018-07-28 17:52 precreate/posts/year=2011/month=2011-02\n",
      "-rwxr-xr-x   1 jovyan supergroup     114317 2018-07-28 17:51 precreate/posts/year=2011/month=2011-02/000000_0\n",
      "drwxr-xr-x   - jovyan supergroup          0 2018-07-28 17:52 precreate/posts/year=2011/month=2011-03\n",
      "-rwxr-xr-x   1 jovyan supergroup     140268 2018-07-28 17:51 precreate/posts/year=2011/month=2011-03/000000_0\n",
      "drwxr-xr-x   - jovyan supergroup          0 2018-07-28 17:52 precreate/posts/year=2011/month=2011-04\n",
      "-rwxr-xr-x   1 jovyan supergroup     130460 2018-07-28 17:51 precreate/posts/year=2011/month=2011-04/000000_0\n",
      "drwxr-xr-x   - jovyan supergroup          0 2018-07-28 17:52 precreate/posts/year=2011/month=2011-05\n",
      "-rwxr-xr-x   1 jovyan supergroup     133522 2018-07-28 17:51 precreate/posts/year=2011/month=2011-05/000000_0\n",
      "drwxr-xr-x   - jovyan supergroup          0 2018-07-28 17:52 precreate/posts/year=2011/month=2011-06\n",
      "-rwxr-xr-x   1 jovyan supergroup     136518 2018-07-28 17:51 precreate/posts/year=2011/month=2011-06/000000_0\n",
      "drwxr-xr-x   - jovyan supergroup          0 2018-07-28 17:52 precreate/posts/year=2011/month=2011-07\n",
      "-rwxr-xr-x   1 jovyan supergroup     135066 2018-07-28 17:51 precreate/posts/year=2011/month=2011-07/000000_0\n",
      "drwxr-xr-x   - jovyan supergroup          0 2018-07-28 17:52 precreate/posts/year=2011/month=2011-08\n",
      "-rwxr-xr-x   1 jovyan supergroup     144725 2018-07-28 17:51 precreate/posts/year=2011/month=2011-08/000000_0\n",
      "drwxr-xr-x   - jovyan supergroup          0 2018-07-28 17:52 precreate/posts/year=2011/month=2011-09\n",
      "-rwxr-xr-x   1 jovyan supergroup     134747 2018-07-28 17:51 precreate/posts/year=2011/month=2011-09/000000_0\n",
      "drwxr-xr-x   - jovyan supergroup          0 2018-07-28 17:52 precreate/posts/year=2011/month=2011-10\n",
      "-rwxr-xr-x   1 jovyan supergroup     130987 2018-07-28 17:51 precreate/posts/year=2011/month=2011-10/000000_0\n",
      "drwxr-xr-x   - jovyan supergroup          0 2018-07-28 17:52 precreate/posts/year=2011/month=2011-11\n",
      "-rwxr-xr-x   1 jovyan supergroup     144404 2018-07-28 17:51 precreate/posts/year=2011/month=2011-11/000000_0\n",
      "drwxr-xr-x   - jovyan supergroup          0 2018-07-28 17:52 precreate/posts/year=2011/month=2011-12\n",
      "-rwxr-xr-x   1 jovyan supergroup     137748 2018-07-28 17:51 precreate/posts/year=2011/month=2011-12/000000_0\n",
      "drwxr-xr-x   - jovyan supergroup          0 2018-07-28 17:52 precreate/posts/year=2012\n",
      "drwxr-xr-x   - jovyan supergroup          0 2018-07-28 17:52 precreate/posts/year=2012/month=2012-01\n",
      "-rwxr-xr-x   1 jovyan supergroup     153805 2018-07-28 17:51 precreate/posts/year=2012/month=2012-01/000000_0\n",
      "drwxr-xr-x   - jovyan supergroup          0 2018-07-28 17:52 precreate/posts/year=2012/month=2012-02\n",
      "-rwxr-xr-x   1 jovyan supergroup     161790 2018-07-28 17:51 precreate/posts/year=2012/month=2012-02/000000_0\n",
      "drwxr-xr-x   - jovyan supergroup          0 2018-07-28 17:52 precreate/posts/year=2012/month=2012-03\n",
      "-rwxr-xr-x   1 jovyan supergroup     173679 2018-07-28 17:51 precreate/posts/year=2012/month=2012-03/000000_0\n",
      "drwxr-xr-x   - jovyan supergroup          0 2018-07-28 17:52 precreate/posts/year=2012/month=2012-04\n"
     ]
    },
    {
     "name": "stdout",
     "output_type": "stream",
     "text": [
      "-rwxr-xr-x   1 jovyan supergroup     165058 2018-07-28 17:51 precreate/posts/year=2012/month=2012-04/000000_0\n",
      "drwxr-xr-x   - jovyan supergroup          0 2018-07-28 17:52 precreate/posts/year=2012/month=2012-05\n",
      "-rwxr-xr-x   1 jovyan supergroup     173774 2018-07-28 17:51 precreate/posts/year=2012/month=2012-05/000000_0\n",
      "drwxr-xr-x   - jovyan supergroup          0 2018-07-28 17:52 precreate/posts/year=2012/month=2012-06\n",
      "-rwxr-xr-x   1 jovyan supergroup     166502 2018-07-28 17:51 precreate/posts/year=2012/month=2012-06/000000_0\n",
      "drwxr-xr-x   - jovyan supergroup          0 2018-07-28 17:52 precreate/posts/year=2012/month=2012-07\n",
      "-rwxr-xr-x   1 jovyan supergroup     181487 2018-07-28 17:51 precreate/posts/year=2012/month=2012-07/000000_0\n",
      "drwxr-xr-x   - jovyan supergroup          0 2018-07-28 17:52 precreate/posts/year=2012/month=2012-08\n",
      "-rwxr-xr-x   1 jovyan supergroup     178336 2018-07-28 17:51 precreate/posts/year=2012/month=2012-08/000000_0\n",
      "drwxr-xr-x   - jovyan supergroup          0 2018-07-28 17:52 precreate/posts/year=2012/month=2012-09\n",
      "-rwxr-xr-x   1 jovyan supergroup     165158 2018-07-28 17:51 precreate/posts/year=2012/month=2012-09/000000_0\n",
      "drwxr-xr-x   - jovyan supergroup          0 2018-07-28 17:52 precreate/posts/year=2012/month=2012-10\n",
      "-rwxr-xr-x   1 jovyan supergroup     191925 2018-07-28 17:51 precreate/posts/year=2012/month=2012-10/000000_0\n",
      "drwxr-xr-x   - jovyan supergroup          0 2018-07-28 17:52 precreate/posts/year=2012/month=2012-11\n",
      "-rwxr-xr-x   1 jovyan supergroup     182803 2018-07-28 17:51 precreate/posts/year=2012/month=2012-11/000000_0\n",
      "drwxr-xr-x   - jovyan supergroup          0 2018-07-28 17:52 precreate/posts/year=2012/month=2012-12\n",
      "-rwxr-xr-x   1 jovyan supergroup     166758 2018-07-28 17:51 precreate/posts/year=2012/month=2012-12/000000_0\n",
      "drwxr-xr-x   - jovyan supergroup          0 2018-07-28 17:52 precreate/posts/year=2013\n",
      "drwxr-xr-x   - jovyan supergroup          0 2018-07-28 17:52 precreate/posts/year=2013/month=2013-01\n",
      "-rwxr-xr-x   1 jovyan supergroup     196473 2018-07-28 17:51 precreate/posts/year=2013/month=2013-01/000000_0\n",
      "drwxr-xr-x   - jovyan supergroup          0 2018-07-28 17:52 precreate/posts/year=2013/month=2013-02\n",
      "-rwxr-xr-x   1 jovyan supergroup     190925 2018-07-28 17:51 precreate/posts/year=2013/month=2013-02/000000_0\n",
      "drwxr-xr-x   - jovyan supergroup          0 2018-07-28 17:52 precreate/posts/year=2013/month=2013-03\n",
      "-rwxr-xr-x   1 jovyan supergroup     216652 2018-07-28 17:51 precreate/posts/year=2013/month=2013-03/000000_0\n",
      "drwxr-xr-x   - jovyan supergroup          0 2018-07-28 17:52 precreate/posts/year=2013/month=2013-04\n",
      "-rwxr-xr-x   1 jovyan supergroup     213185 2018-07-28 17:51 precreate/posts/year=2013/month=2013-04/000000_0\n",
      "drwxr-xr-x   - jovyan supergroup          0 2018-07-28 17:52 precreate/posts/year=2013/month=2013-05\n",
      "-rwxr-xr-x   1 jovyan supergroup     209501 2018-07-28 17:51 precreate/posts/year=2013/month=2013-05/000000_0\n",
      "drwxr-xr-x   - jovyan supergroup          0 2018-07-28 17:52 precreate/posts/year=2013/month=2013-06\n",
      "-rwxr-xr-x   1 jovyan supergroup     201444 2018-07-28 17:51 precreate/posts/year=2013/month=2013-06/000000_0\n",
      "drwxr-xr-x   - jovyan supergroup          0 2018-07-28 17:52 precreate/posts/year=2013/month=2013-07\n",
      "-rwxr-xr-x   1 jovyan supergroup     225381 2018-07-28 17:51 precreate/posts/year=2013/month=2013-07/000000_0\n",
      "drwxr-xr-x   - jovyan supergroup          0 2018-07-28 17:52 precreate/posts/year=2013/month=2013-08\n",
      "-rwxr-xr-x   1 jovyan supergroup     217825 2018-07-28 17:51 precreate/posts/year=2013/month=2013-08/000000_0\n",
      "drwxr-xr-x   - jovyan supergroup          0 2018-07-28 17:52 precreate/posts/year=2013/month=2013-09\n",
      "-rwxr-xr-x   1 jovyan supergroup     210086 2018-07-28 17:51 precreate/posts/year=2013/month=2013-09/000000_0\n",
      "drwxr-xr-x   - jovyan supergroup          0 2018-07-28 17:52 precreate/posts/year=2013/month=2013-10\n",
      "-rwxr-xr-x   1 jovyan supergroup     233110 2018-07-28 17:51 precreate/posts/year=2013/month=2013-10/000000_0\n",
      "drwxr-xr-x   - jovyan supergroup          0 2018-07-28 17:52 precreate/posts/year=2013/month=2013-11\n",
      "-rwxr-xr-x   1 jovyan supergroup     222717 2018-07-28 17:51 precreate/posts/year=2013/month=2013-11/000000_0\n",
      "drwxr-xr-x   - jovyan supergroup          0 2018-07-28 17:52 precreate/posts/year=2013/month=2013-12\n",
      "-rwxr-xr-x   1 jovyan supergroup     211354 2018-07-28 17:51 precreate/posts/year=2013/month=2013-12/000000_0\n",
      "drwxr-xr-x   - jovyan supergroup          0 2018-07-28 17:52 precreate/posts/year=2014\n",
      "drwxr-xr-x   - jovyan supergroup          0 2018-07-28 17:52 precreate/posts/year=2014/month=2014-01\n",
      "-rwxr-xr-x   1 jovyan supergroup     241825 2018-07-28 17:51 precreate/posts/year=2014/month=2014-01/000000_0\n",
      "drwxr-xr-x   - jovyan supergroup          0 2018-07-28 17:52 precreate/posts/year=2014/month=2014-02\n",
      "-rwxr-xr-x   1 jovyan supergroup     237734 2018-07-28 17:51 precreate/posts/year=2014/month=2014-02/000000_0\n",
      "drwxr-xr-x   - jovyan supergroup          0 2018-07-28 17:52 precreate/posts/year=2014/month=2014-03\n",
      "-rwxr-xr-x   1 jovyan supergroup     255378 2018-07-28 17:51 precreate/posts/year=2014/month=2014-03/000000_0\n",
      "drwxr-xr-x   - jovyan supergroup          0 2018-07-28 17:52 precreate/posts/year=2014/month=2014-04\n",
      "-rwxr-xr-x   1 jovyan supergroup     239510 2018-07-28 17:52 precreate/posts/year=2014/month=2014-04/000000_0\n",
      "drwxr-xr-x   - jovyan supergroup          0 2018-07-28 17:52 precreate/posts/year=2014/month=2014-05\n",
      "-rwxr-xr-x   1 jovyan supergroup     217311 2018-07-28 17:51 precreate/posts/year=2014/month=2014-05/000001_0\n",
      "drwxr-xr-x   - jovyan supergroup          0 2018-07-28 17:52 precreate/posts/year=2014/month=2014-06\n",
      "-rwxr-xr-x   1 jovyan supergroup     198314 2018-07-28 17:51 precreate/posts/year=2014/month=2014-06/000001_0\n",
      "drwxr-xr-x   - jovyan supergroup          0 2018-07-28 17:52 precreate/posts/year=2014/month=2014-07\n",
      "-rwxr-xr-x   1 jovyan supergroup     217037 2018-07-28 17:51 precreate/posts/year=2014/month=2014-07/000001_0\n",
      "drwxr-xr-x   - jovyan supergroup          0 2018-07-28 17:52 precreate/posts/year=2014/month=2014-08\n",
      "-rwxr-xr-x   1 jovyan supergroup     199127 2018-07-28 17:51 precreate/posts/year=2014/month=2014-08/000001_0\n",
      "drwxr-xr-x   - jovyan supergroup          0 2018-07-28 17:52 precreate/posts/year=2014/month=2014-09\n",
      "-rwxr-xr-x   1 jovyan supergroup     202181 2018-07-28 17:51 precreate/posts/year=2014/month=2014-09/000001_0\n",
      "drwxr-xr-x   - jovyan supergroup          0 2018-07-28 17:52 precreate/posts/year=2014/month=2014-10\n",
      "-rwxr-xr-x   1 jovyan supergroup     209423 2018-07-28 17:51 precreate/posts/year=2014/month=2014-10/000001_0\n",
      "drwxr-xr-x   - jovyan supergroup          0 2018-07-28 17:52 precreate/posts/year=2014/month=2014-11\n",
      "-rwxr-xr-x   1 jovyan supergroup     202160 2018-07-28 17:51 precreate/posts/year=2014/month=2014-11/000001_0\n",
      "drwxr-xr-x   - jovyan supergroup          0 2018-07-28 17:52 precreate/posts/year=2014/month=2014-12\n",
      "-rwxr-xr-x   1 jovyan supergroup     192013 2018-07-28 17:51 precreate/posts/year=2014/month=2014-12/000001_0\n",
      "drwxr-xr-x   - jovyan supergroup          0 2018-07-28 17:52 precreate/posts/year=2015\n",
      "drwxr-xr-x   - jovyan supergroup          0 2018-07-28 17:52 precreate/posts/year=2015/month=2015-01\n",
      "-rwxr-xr-x   1 jovyan supergroup     200288 2018-07-28 17:51 precreate/posts/year=2015/month=2015-01/000001_0\n",
      "drwxr-xr-x   - jovyan supergroup          0 2018-07-28 17:52 precreate/posts/year=2015/month=2015-02\n",
      "-rwxr-xr-x   1 jovyan supergroup     202904 2018-07-28 17:51 precreate/posts/year=2015/month=2015-02/000001_0\n",
      "drwxr-xr-x   - jovyan supergroup          0 2018-07-28 17:52 precreate/posts/year=2015/month=2015-03\n",
      "-rwxr-xr-x   1 jovyan supergroup     226751 2018-07-28 17:51 precreate/posts/year=2015/month=2015-03/000001_0\n",
      "drwxr-xr-x   - jovyan supergroup          0 2018-07-28 17:52 precreate/posts/year=2015/month=2015-04\n",
      "-rwxr-xr-x   1 jovyan supergroup     230876 2018-07-28 17:51 precreate/posts/year=2015/month=2015-04/000001_0\n",
      "drwxr-xr-x   - jovyan supergroup          0 2018-07-28 17:52 precreate/posts/year=2015/month=2015-05\n",
      "-rwxr-xr-x   1 jovyan supergroup     225250 2018-07-28 17:51 precreate/posts/year=2015/month=2015-05/000001_0\n",
      "drwxr-xr-x   - jovyan supergroup          0 2018-07-28 17:52 precreate/posts/year=2015/month=2015-06\n"
     ]
    },
    {
     "name": "stdout",
     "output_type": "stream",
     "text": [
      "-rwxr-xr-x   1 jovyan supergroup     226802 2018-07-28 17:51 precreate/posts/year=2015/month=2015-06/000001_0\r\n",
      "drwxr-xr-x   - jovyan supergroup          0 2018-07-28 17:52 precreate/posts/year=2015/month=2015-07\r\n",
      "-rwxr-xr-x   1 jovyan supergroup     234679 2018-07-28 17:51 precreate/posts/year=2015/month=2015-07/000001_0\r\n",
      "drwxr-xr-x   - jovyan supergroup          0 2018-07-28 17:52 precreate/posts/year=2015/month=2015-08\r\n",
      "-rwxr-xr-x   1 jovyan supergroup     221281 2018-07-28 17:51 precreate/posts/year=2015/month=2015-08/000001_0\r\n",
      "drwxr-xr-x   - jovyan supergroup          0 2018-07-28 17:52 precreate/posts/year=2015/month=2015-09\r\n",
      "-rwxr-xr-x   1 jovyan supergroup     213721 2018-07-28 17:51 precreate/posts/year=2015/month=2015-09/000001_0\r\n",
      "drwxr-xr-x   - jovyan supergroup          0 2018-07-28 17:52 precreate/posts/year=2015/month=2015-10\r\n",
      "-rwxr-xr-x   1 jovyan supergroup     224685 2018-07-28 17:51 precreate/posts/year=2015/month=2015-10/000001_0\r\n",
      "drwxr-xr-x   - jovyan supergroup          0 2018-07-28 17:52 precreate/posts/year=2015/month=2015-11\r\n",
      "-rwxr-xr-x   1 jovyan supergroup     210106 2018-07-28 17:51 precreate/posts/year=2015/month=2015-11/000001_0\r\n",
      "drwxr-xr-x   - jovyan supergroup          0 2018-07-28 17:52 precreate/posts/year=2015/month=2015-12\r\n",
      "-rwxr-xr-x   1 jovyan supergroup     214053 2018-07-28 17:51 precreate/posts/year=2015/month=2015-12/000001_0\r\n",
      "drwxr-xr-x   - jovyan supergroup          0 2018-07-28 17:52 precreate/posts/year=2016\r\n",
      "drwxr-xr-x   - jovyan supergroup          0 2018-07-28 17:52 precreate/posts/year=2016/month=2016-01\r\n",
      "-rwxr-xr-x   1 jovyan supergroup     231985 2018-07-28 17:51 precreate/posts/year=2016/month=2016-01/000001_0\r\n",
      "drwxr-xr-x   - jovyan supergroup          0 2018-07-28 17:52 precreate/posts/year=2016/month=2016-02\r\n",
      "-rwxr-xr-x   1 jovyan supergroup     243015 2018-07-28 17:51 precreate/posts/year=2016/month=2016-02/000001_0\r\n",
      "drwxr-xr-x   - jovyan supergroup          0 2018-07-28 17:52 precreate/posts/year=2016/month=2016-03\r\n",
      "-rwxr-xr-x   1 jovyan supergroup     258602 2018-07-28 17:51 precreate/posts/year=2016/month=2016-03/000001_0\r\n",
      "drwxr-xr-x   - jovyan supergroup          0 2018-07-28 17:52 precreate/posts/year=2016/month=2016-04\r\n",
      "-rwxr-xr-x   1 jovyan supergroup     252224 2018-07-28 17:51 precreate/posts/year=2016/month=2016-04/000001_0\r\n",
      "drwxr-xr-x   - jovyan supergroup          0 2018-07-28 17:52 precreate/posts/year=2016/month=2016-05\r\n",
      "-rwxr-xr-x   1 jovyan supergroup     244023 2018-07-28 17:51 precreate/posts/year=2016/month=2016-05/000001_0\r\n",
      "drwxr-xr-x   - jovyan supergroup          0 2018-07-28 17:52 precreate/posts/year=2016/month=2016-06\r\n",
      "-rwxr-xr-x   1 jovyan supergroup     238414 2018-07-28 17:51 precreate/posts/year=2016/month=2016-06/000001_0\r\n",
      "drwxr-xr-x   - jovyan supergroup          0 2018-07-28 17:52 precreate/posts/year=2016/month=2016-07\r\n",
      "-rwxr-xr-x   1 jovyan supergroup     227924 2018-07-28 17:51 precreate/posts/year=2016/month=2016-07/000001_0\r\n",
      "drwxr-xr-x   - jovyan supergroup          0 2018-07-28 17:52 precreate/posts/year=2016/month=2016-08\r\n",
      "-rwxr-xr-x   1 jovyan supergroup     234102 2018-07-28 17:51 precreate/posts/year=2016/month=2016-08/000001_0\r\n",
      "drwxr-xr-x   - jovyan supergroup          0 2018-07-28 17:52 precreate/posts/year=2016/month=2016-09\r\n",
      "-rwxr-xr-x   1 jovyan supergroup     222377 2018-07-28 17:51 precreate/posts/year=2016/month=2016-09/000001_0\r\n",
      "drwxr-xr-x   - jovyan supergroup          0 2018-07-28 17:52 precreate/posts/year=2016/month=2016-10\r\n",
      "-rwxr-xr-x   1 jovyan supergroup     227424 2018-07-28 17:51 precreate/posts/year=2016/month=2016-10/000001_0\r\n",
      "drwxr-xr-x   - jovyan supergroup          0 2018-07-28 17:52 precreate/posts/year=2016/month=2016-11\r\n",
      "-rwxr-xr-x   1 jovyan supergroup     235226 2018-07-28 17:51 precreate/posts/year=2016/month=2016-11/000001_0\r\n",
      "drwxr-xr-x   - jovyan supergroup          0 2018-07-28 17:52 precreate/posts/year=2016/month=2016-12\r\n",
      "-rwxr-xr-x   1 jovyan supergroup      81552 2018-07-28 17:51 precreate/posts/year=2016/month=2016-12/000001_0\r\n",
      "drwxr-xr-x   - jovyan supergroup          0 2018-07-28 17:52 precreate/users\r\n",
      "-rwxr-xr-x   1 jovyan supergroup    3164057 2018-07-28 17:52 precreate/users/000000_0\r\n"
     ]
    }
   ],
   "source": [
    "! hdfs dfs -ls "
   ]
  },
  {
   "cell_type": "code",
   "execution_count": 20,
   "metadata": {
    "colab": {
     "autoexec": {
      "startup": false,
      "wait_interval": 0
     }
    },
    "colab_type": "code",
    "id": "bRiLxzoReZ7o"
   },
   "outputs": [
    {
     "name": "stdout",
     "output_type": "stream",
     "text": [
      "Overwriting final.hql\n"
     ]
    }
   ],
   "source": [
    "%%writefile final.hql\n",
    "\n",
    "SET hive.enforce.bucketing=true;\n",
    "SET hive.exec.dynamic.partition=true;\n",
    "SET hive.exec.dynamic.partition.mode=non-strict;\n",
    "\n",
    "ADD FILE mapper.py;\n",
    "ADD FILE reducer.py;\n",
    "\n",
    "CREATE DATABASE IF NOT EXISTS jovyan;\n",
    "\n",
    "USE jovyan;\n",
    "\n",
    "DROP TABLE IF EXISTS data_raw;\n",
    "\n",
    "CREATE EXTERNAL TABLE data_raw (\n",
    "    line STRING\n",
    ")\n",
    "ROW FORMAT DELIMITED\n",
    "LINES TERMINATED BY '\\n'\n",
    "STORED AS textfile\n",
    "LOCATION '/data/stackexchange1000/posts/';\n",
    "\n",
    "--- SELECT COUNT(*) FROM data_raw;\n",
    "--- SELECT * FROM data_raw LIMIT 3;\n",
    "\n",
    "DROP TABLE IF EXISTS formatted_raw;\n",
    "\n",
    "CREATE TABLE formatted_raw (\n",
    "    tag STRING,\n",
    "    count INT\n",
    ")\n",
    "PARTITIONED BY (year INT);\n",
    "\n",
    "--- SELECT COUNT(*) FROM formatted_raw;\n",
    "--- SELECT * FROM formatted_raw LIMIT 3;\n",
    "\n",
    "FROM (\n",
    "    FROM data_raw\n",
    "    SELECT TRANSFORM (line)\n",
    "    USING \"mapper.py\" AS tag, count, year\n",
    "    DISTRIBUTE BY year SORT BY tag\n",
    ") Tags\n",
    "INSERT OVERWRITE TABLE formatted_raw\n",
    "    PARTITION (year)\n",
    "    SELECT TRANSFORM(Tags.tag, Tags.count, Tags.year)\n",
    "    USING \"reducer.py\" AS tag, count, year;\n",
    "\n",
    "SELECT year, tag, count\n",
    "FROM (\n",
    "    SELECT year, tag, count, rnk\n",
    "    FROM (\n",
    "        SELECT year, tag, count, RANK() OVER(\n",
    "            PARTITION BY year \n",
    "            ORDER BY count DESC, tag) AS rnk\n",
    "        FROM formatted_raw\n",
    "    ) AS tgs\n",
    "    WHERE rnk <= 10\n",
    ") AS tgs\n",
    "ORDER BY year ASC, count DESC;\n",
    "--- INTO OUTFILE 'hw3_hive.out';"
   ]
  },
  {
   "cell_type": "code",
   "execution_count": null,
   "metadata": {},
   "outputs": [
    {
     "name": "stdout",
     "output_type": "stream",
     "text": [
      "\r\n",
      "Logging initialized using configuration in jar:file:/usr/local/apache-hive-1.1.0-bin/lib/hive-common-1.1.0.jar!/hive-log4j.properties\r\n"
     ]
    }
   ],
   "source": [
    "! hive final.hql > hw3_hive.out"
   ]
  },
  {
   "cell_type": "markdown",
   "metadata": {
    "colab_type": "text",
    "id": "cGrOQYgqJ5sn"
   },
   "source": [
    "As you can see, those rows contain some information about posts and users in XML format."
   ]
  },
  {
   "cell_type": "markdown",
   "metadata": {
    "colab_type": "text",
    "id": "AoNccKriJ5sp"
   },
   "source": [
    "<b>Question.</b> Which fields for users and posts do you think are the most important for the analysis? And for joining tables? "
   ]
  },
  {
   "cell_type": "markdown",
   "metadata": {
    "colab_type": "text",
    "id": "1mWC_LHQJ5sr"
   },
   "source": [
    "<h3><b>Please, check your answer with this information!</b></h3>"
   ]
  },
  {
   "cell_type": "markdown",
   "metadata": {
    "colab_type": "text",
    "id": "3hcl3lLyJ5sq"
   },
   "source": [
    "So, the lines not started with the \"row\" tags should be ignored. The valid row contains the following fields and their order is not defined:\n",
    "\n",
    "* Id (integer) - id of the post\n",
    "* PostTypeId (integer: 1 or 2) - 1 for questions, 2 for answers\n",
    "* CreationDate (date) - post creation date in the format \"YYYY-MM-DDTHH:MM:SS.ms\"\n",
    "* Tags (string, optional) - list of post tags, each tag is wrapped with html entities `&lt;` and `&gt;`\n",
    "* OwnerUserId (integer, optional) - user id of the post's author\n",
    "* ParentId (integer, optional) - for answers - id of the question\n",
    "* Score (integer) - score (votes) of a question or an answer, can be negative (!)\n",
    "* FavoriteCount (integer, optional) - how many times the question was added in the favorites"
   ]
  },
  {
   "cell_type": "markdown",
   "metadata": {
    "colab_type": "text",
    "id": "pmQ2vtOVJ5sr"
   },
   "source": [
    "The second part of the dataset contains StackOverflow users.\n",
    "\n",
    "The fields are the following and their order is also not defined:\n",
    "\n",
    "* Id (integer) - user id\n",
    "* Reputation (integer) - user's reputation\n",
    "* CreationDate (string) - creation date in the format \"YYYY-MM-DDTHH:MM:SS.ms\"\n",
    "* DisplayName (string) - user's name\n",
    "* Location (string, options) - user's country\n",
    "* Age (integer, optional) - user's age"
   ]
  },
  {
   "cell_type": "markdown",
   "metadata": {
    "colab_type": "text",
    "id": "Na2THNHnJ5ss"
   },
   "source": [
    "## Step 3. Train your regexp skills"
   ]
  },
  {
   "cell_type": "markdown",
   "metadata": {
    "colab_type": "text",
    "id": "pxFZQpxIJ5st"
   },
   "source": [
    "In this step you will find out how to parse information for complex rows! You will try to create some examples for parsing! There are some general rules for parsing:"
   ]
  },
  {
   "cell_type": "markdown",
   "metadata": {
    "colab_type": "text",
    "id": "YRaJBzTeJ5su"
   },
   "source": [
    "1. To create a regular expression, which describes strings containing two patterns, where the order of the patterns is not defined use the following so-called ‘positive lookahead assertion’ with `?=` group modifier. For example, both strings “Washington Irving” and “Irving Washington” match the pattern:\n",
    "```\n",
    "(?=.*Washington)(?=.*Irving)\n",
    "```.\n",
    "2. To capture groups use round brackets. So, the pattern: `(?=.*(Washington))(?=.*(Irving))` captures `Washington` and `Irving` from both strings: \"William Arthur Irving Washington was an English first-class Cricketer\" and: “Washington Irving was an American writer”.\n",
    "3. Use `\\b` to specify boundaries of words and increase accuracy of your pattern. For example: pattern `(?=.*\\bID=(\\d+))(?=.*\\bUserID=(\\d+))` captures `1` and `2` from the string `ID=1 UserID=2`, whereas pattern without `\\b`: `(?=.*ID=(\\d+))(?=.*UserID=(\\d+))` returns the wrong groups: `2` and `2`.\n",
    "4. In Hive pattern for the external table in SERDEPROPERTIES `input.regex` should describe the whole input string, add `.*` at the end of the pattern.\n",
    "5. Don't forget that for the beginning of string should also be covered. That's why use the pattern `.*?` for lazy initialization of future patterns."
   ]
  },
  {
   "cell_type": "markdown",
   "metadata": {
    "colab_type": "text",
    "id": "cRobnWBYJ5sv"
   },
   "source": [
    "To sum up, you can create your first regex for parsing Id from posts!"
   ]
  },
  {
   "cell_type": "markdown",
   "metadata": {
    "colab_type": "text",
    "id": "fA7LBThaJ5sv"
   },
   "source": [
    "<b>Question!</b> What will be your first regex for parsing Id from the posts? Don't forget to add steps 4 and 5!"
   ]
  },
  {
   "cell_type": "markdown",
   "metadata": {
    "colab_type": "text",
    "id": "jAwyKE9EJ5sw"
   },
   "source": [
    "<div class=\"panel-group\">\n",
    "  <div class=\"panel panel-default\">\n",
    "    <div class=\"panel-heading\">\n",
    "      <h4 class=\"panel-title\">\n",
    "        <a data-toggle=\"collapse\" href=\"#collapse-answer\">Check your answer!</a>\n",
    "      </h4>\n",
    "    </div>\n",
    "    <div id=\"collapse-answer\" class=\"panel-collapse collapse\">\n",
    "      <div class=\"panel-body\">The correct answer is `\".*?(?=.*\\\\bId=\\\"(\\\\d+)\\\").*\"` </div>\n",
    "    </div>\n",
    "  </div>\n",
    "</div>"
   ]
  },
  {
   "cell_type": "markdown",
   "metadata": {
    "colab_type": "text",
    "id": "pirvGNs1J5sx"
   },
   "source": [
    "Let's create the first external table with one row which contains only `Id` field. Let's name it `posts_external_only_id`.\n",
    "You can watch the lecture for the SerDe format: <a href=\"https://www.coursera.org/learn/big-data-analysis/lecture/wAGe6/hive-analytics-regexserde-views\">Serde Format</a> and <a href=\"/notebooks/demos/course02_week02-Demo_submission.ipynb#2.-Creation-the-external-table\">creation of external table</a> tutorial."
   ]
  },
  {
   "cell_type": "code",
   "execution_count": null,
   "metadata": {
    "colab": {
     "autoexec": {
      "startup": false,
      "wait_interval": 0
     }
    },
    "colab_type": "code",
    "id": "bMdai9W-J5sx"
   },
   "outputs": [],
   "source": [
    "%%writefile demo_example.hql\n",
    "\n",
    "-- adding necessary JARs and including database\n",
    "ADD JAR /opt/cloudera/parcels/CDH/lib/hive/lib/hive-contrib.jar;\n",
    "ADD JAR /opt/cloudera/parcels/CDH/lib/hive/lib/hive-serde.jar;\n",
    "\n",
    "USE demodb;\n",
    "DROP TABLE IF EXISTS posts_external_only_id;\n",
    "\n",
    "\n",
    "-- Create external table \n",
    "\n",
    "-- Your code here"
   ]
  },
  {
   "cell_type": "code",
   "execution_count": null,
   "metadata": {
    "colab": {
     "autoexec": {
      "startup": false,
      "wait_interval": 0
     }
    },
    "colab_type": "code",
    "id": "zuwW8QeTJ5s4",
    "outputId": "0d1b9829-7abf-45e9-cdd3-37bffc6db60f"
   },
   "outputs": [],
   "source": [
    "!hive -f demo_example.hql"
   ]
  },
  {
   "cell_type": "markdown",
   "metadata": {
    "colab_type": "text",
    "id": "2lNqp7uWJ5s9"
   },
   "source": [
    "Hooray! You have created your first table. Let us watch for this table!"
   ]
  },
  {
   "cell_type": "code",
   "execution_count": null,
   "metadata": {
    "colab": {
     "autoexec": {
      "startup": false,
      "wait_interval": 0
     }
    },
    "colab_type": "code",
    "id": "Z4m1NcvkJ5s9",
    "outputId": "fb1d255e-e8e6-495d-bdb9-aef62dce66d7"
   },
   "outputs": [],
   "source": [
    "%%writefile describe.hql\n",
    "\n",
    "ADD JAR /opt/cloudera/parcels/CDH/lib/hive/lib/hive-contrib.jar;\n",
    "\n",
    "USE demodb;\n",
    "DESCRIBE posts_external_only_id;"
   ]
  },
  {
   "cell_type": "code",
   "execution_count": null,
   "metadata": {
    "colab": {
     "autoexec": {
      "startup": false,
      "wait_interval": 0
     }
    },
    "colab_type": "code",
    "id": "t0XIXEHgJ5tB",
    "outputId": "0bee136b-e500-4cad-d817-da3115b84937"
   },
   "outputs": [],
   "source": [
    "!hive -f describe.hql"
   ]
  },
  {
   "cell_type": "markdown",
   "metadata": {
    "colab_type": "text",
    "id": "kuvkMUIqJ5tE"
   },
   "source": [
    "Let's see that the data is  correctly parsed. For this case, take a select query that chooses for us first 10 rows"
   ]
  },
  {
   "cell_type": "code",
   "execution_count": null,
   "metadata": {
    "colab": {
     "autoexec": {
      "startup": false,
      "wait_interval": 0
     }
    },
    "colab_type": "code",
    "id": "ZkONpnbTJ5tF"
   },
   "outputs": [],
   "source": [
    "%%writefile my_first_select.hql\n",
    "-- Your code here"
   ]
  },
  {
   "cell_type": "code",
   "execution_count": null,
   "metadata": {
    "colab": {
     "autoexec": {
      "startup": false,
      "wait_interval": 0
     }
    },
    "colab_type": "code",
    "id": "imN6eicpJ5tJ",
    "outputId": "a14b9ad1-944c-4184-966a-aa38b2cb1377"
   },
   "outputs": [],
   "source": [
    "!hive -f my_first_select.hql"
   ]
  },
  {
   "cell_type": "markdown",
   "metadata": {
    "colab_type": "text",
    "id": "xFL5R6oTJ5tO"
   },
   "source": [
    "How many posts are there in the dataset? Don't forget to clear the `NULL` values!"
   ]
  },
  {
   "cell_type": "code",
   "execution_count": null,
   "metadata": {
    "colab": {
     "autoexec": {
      "startup": false,
      "wait_interval": 0
     }
    },
    "colab_type": "code",
    "id": "d0gg-zzyJ5tO"
   },
   "outputs": [],
   "source": [
    "%%writefile how_many_posts.hql\n",
    "-- Your code here"
   ]
  },
  {
   "cell_type": "code",
   "execution_count": null,
   "metadata": {
    "colab": {
     "autoexec": {
      "startup": false,
      "wait_interval": 0
     }
    },
    "colab_type": "code",
    "id": "68Zo73CjJ5tT",
    "outputId": "df326357-6789-481e-89b4-bdc8ae8c47b2"
   },
   "outputs": [],
   "source": [
    "!hive -f how_many_posts.hql"
   ]
  },
  {
   "cell_type": "markdown",
   "metadata": {
    "colab_type": "text",
    "id": "qjP7lEGZJ5tW"
   },
   "source": [
    "Try to parse different fields: for example, day and month of creation date. Don't forget that Hive will accept values for the capturing group in the lookahead. "
   ]
  },
  {
   "cell_type": "markdown",
   "metadata": {
    "colab_type": "text",
    "id": "9Ai72gzOJ5tX"
   },
   "source": [
    "Now you are ready to complete your task! Before this you can check your regular expression for parsing!"
   ]
  },
  {
   "cell_type": "code",
   "execution_count": null,
   "metadata": {
    "colab": {
     "autoexec": {
      "startup": false,
      "wait_interval": 0
     }
    },
    "colab_type": "code",
    "id": "RK4ni3GdJ5tY"
   },
   "outputs": [],
   "source": [
    "import re"
   ]
  },
  {
   "cell_type": "code",
   "execution_count": null,
   "metadata": {
    "colab": {
     "autoexec": {
      "startup": false,
      "wait_interval": 0
     }
    },
    "colab_type": "code",
    "id": "yT8UyDAKJ5tZ"
   },
   "outputs": [],
   "source": [
    "CHECK_ROW = '<row Id=\"1394\" PostTypeId=\"2\" ParentId=\"1390\" CreationDate=\"2008-08-04T16:38:03.667\" Score=\"16\" Body=\"&lt;p&gt;Not sure how credible &lt;a href=&quot;http://www.builderau.com.au/program/windows/soa/Getting-started-with-Windows-Server-2008-Core-edition/0,339024644,339288700,00.htm&quot; rel=&quot;nofollow noreferrer&quot;&gt;this source is&lt;/a&gt;, but:&lt;/p&gt;&#xA;&#xA;&lt;blockquote&gt;&#xA;  &lt;p&gt;The Windows Server 2008 Core edition can:&lt;/p&gt;&#xA;  &#xA;  &lt;ul&gt;&#xA;  &lt;li&gt;&lt;p&gt;Run the file server role.&lt;/p&gt;&lt;/li&gt;&#xA;  &lt;li&gt;&lt;p&gt;Run the Hyper-V virtualization server role.&lt;/p&gt;&lt;/li&gt;&#xA;  &lt;li&gt;&lt;p&gt;Run the Directory Services role.&lt;/p&gt;&lt;/li&gt;&#xA;  &lt;li&gt;&lt;p&gt;Run the DHCP server role.&lt;/p&gt;&lt;/li&gt;&#xA;  &lt;li&gt;&lt;p&gt;Run the IIS Web server role.&lt;/p&gt;&lt;/li&gt;&#xA;  &lt;li&gt;&lt;p&gt;Run the DNS server role.&lt;/p&gt;&lt;/li&gt;&#xA;  &lt;li&gt;&lt;p&gt;Run Active Directory Lightweight Directory Services.&lt;/p&gt;&lt;/li&gt;&#xA;  &lt;li&gt;&lt;p&gt;Run the print server role.&lt;/p&gt;&lt;/li&gt;&#xA;  &lt;/ul&gt;&#xA;  &#xA;  &lt;p&gt;The Windows Server 2008 Core edition cannot:&lt;/p&gt;&#xA;  &#xA;  &lt;ul&gt;&#xA;  &lt;li&gt;&lt;p&gt;Run a SQL Server.&lt;/p&gt;&lt;/li&gt;&#xA;  &lt;li&gt;&lt;p&gt;Run an Exchange Server.&lt;/p&gt;&lt;/li&gt;&#xA;  &lt;li&gt;&lt;p&gt;Run Internet Explorer.&lt;/p&gt;&lt;/li&gt;&#xA;  &lt;li&gt;&lt;p&gt;Run Windows Explorer.&lt;/p&gt;&lt;/li&gt;&#xA;  &lt;li&gt;&lt;p&gt;Host a remote desktop session.&lt;/p&gt;&lt;/li&gt;&#xA;  &lt;li&gt;&lt;p&gt;Run MMC snap-in consoles locally.&lt;/p&gt;&lt;/li&gt;&#xA;  &lt;/ul&gt;&#xA;&lt;/blockquote&gt;&#xA;\" OwnerUserId=\"91\" LastEditorUserId=\"1\" LastEditorDisplayName=\"Jeff Atwood\" LastEditDate=\"2008-08-27T13:02:50.273\" LastActivityDate=\"2008-08-27T13:02:50.273\" CommentCount=\"1\" />'"
   ]
  },
  {
   "cell_type": "code",
   "execution_count": null,
   "metadata": {
    "colab": {
     "autoexec": {
      "startup": false,
      "wait_interval": 0
     }
    },
    "colab_type": "code",
    "id": "CGLH3FM_J5tb"
   },
   "outputs": [],
   "source": [
    "CHECK_REGEX = <Paste your regex>"
   ]
  },
  {
   "cell_type": "code",
   "execution_count": null,
   "metadata": {
    "colab": {
     "autoexec": {
      "startup": false,
      "wait_interval": 0
     }
    },
    "colab_type": "code",
    "id": "P8ZiiwbqJ5tf"
   },
   "outputs": [],
   "source": [
    "result = re.match(CHECK_REGEX, CHECK_ROW)"
   ]
  },
  {
   "cell_type": "code",
   "execution_count": null,
   "metadata": {
    "colab": {
     "autoexec": {
      "startup": false,
      "wait_interval": 0
     }
    },
    "colab_type": "code",
    "id": "lKWMRzJNJ5ti"
   },
   "outputs": [],
   "source": [
    "# Sanity check\n",
    "assert result.group(0) == CHECK_ROW"
   ]
  },
  {
   "cell_type": "code",
   "execution_count": null,
   "metadata": {
    "colab": {
     "autoexec": {
      "startup": false,
      "wait_interval": 0
     }
    },
    "colab_type": "code",
    "id": "JeTfyTUwJ5tk"
   },
   "outputs": [],
   "source": [
    "# Check that your groups are correct\n",
    "print(result.groups())"
   ]
  },
  {
   "cell_type": "markdown",
   "metadata": {
    "colab_type": "text",
    "id": "agtKfzx2J5tm"
   },
   "source": [
    "## Step 4. Complete the assignment"
   ]
  },
  {
   "cell_type": "code",
   "execution_count": null,
   "metadata": {
    "colab": {
     "autoexec": {
      "startup": false,
      "wait_interval": 0
     }
    },
    "colab_type": "code",
    "id": "jRdQeLwkJ5tn"
   },
   "outputs": [],
   "source": [
    "%%writefile task1_create_external_table.hql\n",
    "-- Create external table posts_sample_external with suitable values\n",
    "-- Your code here\n",
    "    "
   ]
  },
  {
   "cell_type": "code",
   "execution_count": null,
   "metadata": {
    "colab": {
     "autoexec": {
      "startup": false,
      "wait_interval": 0
     }
    },
    "colab_type": "code",
    "id": "j8r1_LvGJ5tr"
   },
   "outputs": [],
   "source": [
    "!hive -f task1_create_external_table.hql"
   ]
  },
  {
   "cell_type": "markdown",
   "metadata": {
    "colab_type": "text",
    "id": "XaImIBNKJ5ts"
   },
   "source": [
    "Make sure that you have created your table correctly. Select the first 10 posts from the dataset."
   ]
  },
  {
   "cell_type": "code",
   "execution_count": null,
   "metadata": {
    "colab": {
     "autoexec": {
      "startup": false,
      "wait_interval": 0
     }
    },
    "colab_type": "code",
    "id": "2LdLWs-cJ5tt"
   },
   "outputs": [],
   "source": [
    "%%writefile task1_check_select.hql\n",
    "\n",
    "-- Write select query for the first 10 rows\n",
    "-- Your code here"
   ]
  },
  {
   "cell_type": "code",
   "execution_count": null,
   "metadata": {
    "colab": {
     "autoexec": {
      "startup": false,
      "wait_interval": 0
     }
    },
    "colab_type": "code",
    "id": "rIsmJ-uqJ5tu"
   },
   "outputs": [],
   "source": [
    "!hive -f task1_check_select.hql"
   ]
  },
  {
   "cell_type": "markdown",
   "metadata": {
    "colab_type": "text",
    "id": "dqfA8StqJ5tx"
   },
   "source": [
    "Create managed table `posts_sample`. Create the partition by the month and by the year. "
   ]
  },
  {
   "cell_type": "code",
   "execution_count": null,
   "metadata": {
    "colab": {
     "autoexec": {
      "startup": false,
      "wait_interval": 0
     }
    },
    "colab_type": "code",
    "id": "0N7DS8HaJ5tx"
   },
   "outputs": [],
   "source": [
    "%%writefile task1_create_managed_table.hql\n",
    "-- create managed table\n",
    "-- Check that this table contains info about year and month\n",
    "-- Your code here"
   ]
  },
  {
   "cell_type": "code",
   "execution_count": null,
   "metadata": {
    "colab": {
     "autoexec": {
      "startup": false,
      "wait_interval": 0
     }
    },
    "colab_type": "code",
    "id": "bfwzAFdEJ5tz"
   },
   "outputs": [],
   "source": [
    "!hive -f task1_create_managed_table.hql"
   ]
  },
  {
   "cell_type": "markdown",
   "metadata": {
    "colab_type": "text",
    "id": "YUNkq4SXJ5t0"
   },
   "source": [
    "Populate data from the table `posts_sample_external` to the table `posts_sample`. Don't forget about the partitioning rules!"
   ]
  },
  {
   "cell_type": "code",
   "execution_count": null,
   "metadata": {
    "colab": {
     "autoexec": {
      "startup": false,
      "wait_interval": 0
     }
    },
    "colab_type": "code",
    "id": "HdCM4rS7J5t0"
   },
   "outputs": [],
   "source": [
    "%%writefile task1_insert_table.hql\n",
    "\n",
    "-- Insert data to the managed table\n",
    "\n",
    "USE <your database>;\n",
    "-- filling managed posts table from external one\n",
    "SET hive.exec.dynamic.partition.mode=nonstrict;\n",
    "\n",
    "-- Your code here for inserting data"
   ]
  },
  {
   "cell_type": "code",
   "execution_count": null,
   "metadata": {
    "colab": {
     "autoexec": {
      "startup": false,
      "wait_interval": 0
     }
    },
    "colab_type": "code",
    "id": "3V9Ryu0XJ5t3"
   },
   "outputs": [],
   "source": [
    "!hive -f task1_insert_table.hql"
   ]
  },
  {
   "cell_type": "markdown",
   "metadata": {
    "colab_type": "text",
    "id": "_QZWORJwJ5t4"
   },
   "source": [
    "Make sure that your table contains appropriate data about posts"
   ]
  },
  {
   "cell_type": "code",
   "execution_count": null,
   "metadata": {
    "colab": {
     "autoexec": {
      "startup": false,
      "wait_interval": 0
     }
    },
    "colab_type": "code",
    "id": "1ySBr38iJ5t7"
   },
   "outputs": [],
   "source": [
    "%%writefile task1_watch_new_table.hql\n",
    "-- Your code here"
   ]
  },
  {
   "cell_type": "code",
   "execution_count": null,
   "metadata": {
    "colab": {
     "autoexec": {
      "startup": false,
      "wait_interval": 0
     }
    },
    "colab_type": "code",
    "id": "B6PHsnNTJ5t9"
   },
   "outputs": [],
   "source": [
    "!hive -f task1_watch_new_table.hql"
   ]
  },
  {
   "cell_type": "markdown",
   "metadata": {
    "colab_type": "text",
    "id": "6qpvRyrvJ5t_"
   },
   "source": [
    "Take the third row of the dataset in the ascending order for the posts (firstly by year, after that by month)"
   ]
  },
  {
   "cell_type": "code",
   "execution_count": null,
   "metadata": {
    "colab": {
     "autoexec": {
      "startup": false,
      "wait_interval": 0
     }
    },
    "colab_type": "code",
    "id": "IptrKDK8J5t_"
   },
   "outputs": [],
   "source": [
    "%%writefile task1_result.hql\n",
    "-- Your code here"
   ]
  },
  {
   "cell_type": "code",
   "execution_count": null,
   "metadata": {
    "colab": {
     "autoexec": {
      "startup": false,
      "wait_interval": 0
     }
    },
    "colab_type": "code",
    "id": "tJin-nhkJ5uB"
   },
   "outputs": [],
   "source": [
    "!hive -f task1_result.hql"
   ]
  },
  {
   "cell_type": "markdown",
   "metadata": {
    "colab_type": "text",
    "id": "FJTsCVTkJ5uC"
   },
   "source": [
    "## Step 5. Submission part. Do not touch!! And simple run all cells below!"
   ]
  },
  {
   "cell_type": "markdown",
   "metadata": {
    "colab_type": "text",
    "id": "k90P-CwSJ5uC"
   },
   "source": [
    "Copy your notebook from the steps <a href=\"#Step-4.-Complete-the-assignment\">Step 4</a> and <a href=\"#Step-5.-Submission-part.-Do-not-touch!!-And-simple-run-all-cells-below!\">Step 5</a> to the new notebook. Run all the cells! And submit the copied notebook!"
   ]
  },
  {
   "cell_type": "code",
   "execution_count": null,
   "metadata": {
    "colab": {
     "autoexec": {
      "startup": false,
      "wait_interval": 0
     }
    },
    "colab_type": "code",
    "id": "76fguZmgJ5uD"
   },
   "outputs": [],
   "source": [
    "!cat task1_create_external_table.hql > task1.hql\n",
    "!cat task1_create_managed_table.hql >> task1.hql\n",
    "!cat task1_insert_table.hql >> task1.hql\n",
    "!cat task1_result.hql >> task1.hql"
   ]
  },
  {
   "cell_type": "markdown",
   "metadata": {
    "colab_type": "text",
    "id": "KK3zjw7EJ5uF"
   },
   "source": [
    "Take a look at your submission query!"
   ]
  },
  {
   "cell_type": "code",
   "execution_count": null,
   "metadata": {
    "colab": {
     "autoexec": {
      "startup": false,
      "wait_interval": 0
     }
    },
    "colab_type": "code",
    "id": "CLawbwF4J5uG"
   },
   "outputs": [],
   "source": [
    "!cat task1.hql"
   ]
  },
  {
   "cell_type": "code",
   "execution_count": null,
   "metadata": {
    "colab": {
     "autoexec": {
      "startup": false,
      "wait_interval": 0
     }
    },
    "colab_type": "code",
    "id": "GGO0BjtzJ5uI"
   },
   "outputs": [],
   "source": [
    "%%javascript\n",
    "\n",
    "$(document).ready(function() {\n",
    "    console.log('Ready');\n",
    "    \n",
    "    \n",
    "    function is_hive_command(list_tokens) {\n",
    "        return list_tokens.indexOf('hive') > -1 && \n",
    "             list_tokens.indexOf('f') > -1 &&\n",
    "             list_tokens.indexOf('-') > -1 && \n",
    "             list_tokens.indexOf('!') > -1 &&\n",
    "             list_tokens.indexOf('hql') > -1 && \n",
    "             list_tokens.indexOf('writefile') == -1;\n",
    "    } \n",
    "    \n",
    "    function collectText(input_tag) {\n",
    "\n",
    "        var result_string = [];\n",
    "        $.each($(input_tag).children(), function(index, child) {\n",
    "            result_string.push($(child).text());\n",
    "        });\n",
    "        return [result_string, is_hive_command(result_string)];\n",
    "    };\n",
    "    \n",
    "    var filtered_results = $(\".cell.code_cell.rendered\").filter(function(index, element) {\n",
    "        var out = collectText($(element).find('.CodeMirror-line').find('span'));\n",
    "        console.log(out);\n",
    "        return collectText($(element).find('.CodeMirror-line').find('span'))[1];\n",
    "    });\n",
    "    $(filtered_results).remove();\n",
    "});"
   ]
  },
  {
   "cell_type": "code",
   "execution_count": null,
   "metadata": {
    "colab": {
     "autoexec": {
      "startup": false,
      "wait_interval": 0
     }
    },
    "colab_type": "code",
    "id": "unTiTnY_J5uK"
   },
   "outputs": [],
   "source": [
    "%%bash\n",
    "hive -f task1.hql"
   ]
  },
  {
   "cell_type": "markdown",
   "metadata": {
    "colab_type": "text",
    "id": "OwS_Hbx3J5uL"
   },
   "source": [
    "Congratulations! You have completed the assignment! Now you can submit it to the system and get your results!\n",
    "\n",
    "Copy your notebook from the steps <a href=\"#Step-4.-Complete-the-assignment\">Step 4</a> and <a href=\"#Step-5.-Submission-part.-Do-not-touch!!-And-simple-run-all-cells-below!\">Step 5</a> to the new notebook. Run all the cells! And submit the copied notebook!"
   ]
  }
 ],
 "metadata": {
  "colab": {
   "collapsed_sections": [],
   "default_view": {},
   "name": "901_to_students.ipynb",
   "provenance": [],
   "toc_visible": true,
   "version": "0.3.2",
   "views": {}
  },
  "kernelspec": {
   "display_name": "Python 3",
   "language": "python",
   "name": "python3"
  },
  "language_info": {
   "codemirror_mode": {
    "name": "ipython",
    "version": 3
   },
   "file_extension": ".py",
   "mimetype": "text/x-python",
   "name": "python",
   "nbconvert_exporter": "python",
   "pygments_lexer": "ipython3",
   "version": "3.7.6"
  }
 },
 "nbformat": 4,
 "nbformat_minor": 1
}
